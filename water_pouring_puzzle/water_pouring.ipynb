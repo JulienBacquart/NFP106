{
 "cells": [
  {
   "cell_type": "code",
   "execution_count": 1,
   "id": "899fb40f",
   "metadata": {},
   "outputs": [],
   "source": [
    "from collections import deque\n",
    "from dataclasses import dataclass\n",
    "from graphviz import Digraph\n",
    "from itertools import permutations\n",
    "from typing import NamedTuple\n",
    "\n",
    "MAX_VOLUMES: dict[str, int] = {'x': 12, 'y': 8, 'z': 3}\n",
    "\n",
    "\n",
    "class State(NamedTuple):\n",
    "    x: int = 0\n",
    "    y: int = 0\n",
    "    z: int = 0\n",
    "\n",
    "    def is_final(self) -> bool:\n",
    "        \"\"\"Check if any jug contains exactly 1L.\"\"\"\n",
    "        return any(value == 1 for value in self)\n",
    "\n",
    "    def fill(self, field: str) -> 'State':\n",
    "        \"\"\"Fill completely the specified jug.\"\"\"\n",
    "        return self._replace(**{field: MAX_VOLUMES[field]})\n",
    "\n",
    "    def empty(self, field: str) -> 'State':\n",
    "        \"\"\"Empty completely the specified jug.\"\"\"\n",
    "        return self._replace(**{field: 0})\n",
    "\n",
    "    def pour(self, source: str, target: str) -> 'State':\n",
    "        \"\"\"Pour from source jug to target jug until source is empty or target is full.\"\"\"\n",
    "        source_vol = getattr(self, source)\n",
    "        target_vol = getattr(self, target)\n",
    "        target_capacity = MAX_VOLUMES[target]\n",
    "\n",
    "        # Calculate how much can be poured\n",
    "        pour_amount = min(source_vol, target_capacity - target_vol)\n",
    "\n",
    "        return self._replace(\n",
    "            **{source: source_vol - pour_amount, target: target_vol + pour_amount}\n",
    "        )\n",
    "\n",
    "    def expand(self) -> list[tuple['State', str]]:\n",
    "        \"\"\"Generate all valid children states with the action leading to that state.\"\"\"\n",
    "        children = []\n",
    "\n",
    "        # Fill actions (only if not already full)\n",
    "        children += [\n",
    "            ((self.fill(field)), f'fill({field})')\n",
    "            for field in self._fields\n",
    "            if getattr(self, field) < MAX_VOLUMES[field]\n",
    "        ]\n",
    "\n",
    "        # Empty actions (only if not already empty)\n",
    "        children += [\n",
    "            (self.empty(field), f'empty({field})')\n",
    "            for field in self._fields\n",
    "            if getattr(self, field) > 0\n",
    "        ]\n",
    "\n",
    "        # Pour actions (only if source has water and target has space)\n",
    "        children += [\n",
    "            (self.pour(source=source, target=target), f'pour({source}, {target})')\n",
    "            for source, target in permutations(self._fields, 2)\n",
    "            if getattr(self, source) > 0 and getattr(self, target) < MAX_VOLUMES[target]\n",
    "        ]\n",
    "\n",
    "        return children\n",
    "\n",
    "    def __str__(self) -> str:\n",
    "        return f'({self.x}, {self.y}, {self.z})'"
   ]
  },
  {
   "cell_type": "code",
   "execution_count": 2,
   "id": "f2c2b30c",
   "metadata": {},
   "outputs": [],
   "source": [
    "@dataclass(frozen=True)\n",
    "class Node:\n",
    "    state: 'State'\n",
    "    parent: 'Node | None' = None\n",
    "    action: str | None = None\n",
    "    path_cost: int = 0\n",
    "\n",
    "    def expand_node(self) -> list['Node']:\n",
    "        \"\"\"Generate all children for this node.\"\"\"\n",
    "        return [\n",
    "            Node(state=state, parent=self, action=action, path_cost=self.path_cost + 1)\n",
    "            for state, action in self.state.expand()\n",
    "        ]\n",
    "\n",
    "    def get_path(self) -> list[tuple[str | None, str]]:\n",
    "        \"\"\"Reconstruct the path from root to this node.\"\"\"\n",
    "        path = []\n",
    "        node = self\n",
    "        while node is not None:\n",
    "            path.append((node.action, f'{node.state}'))\n",
    "            node = node.parent\n",
    "        return list(reversed(path))\n",
    "\n",
    "    def __repr__(self) -> str:\n",
    "        parent_state = str(self.parent.state) if self.parent else 'None'\n",
    "        return (\n",
    "            f'Node(action={self.action}, state={self.state}, '\n",
    "            f'parent={parent_state}, path_cost={self.path_cost})'\n",
    "        )"
   ]
  },
  {
   "cell_type": "code",
   "execution_count": 3,
   "id": "84b06f6b",
   "metadata": {},
   "outputs": [],
   "source": [
    "def bfs_set(initial_state: State) -> Node | None:\n",
    "    root_node = Node(state=initial_state)\n",
    "    frontier = deque([root_node])\n",
    "    reached = set([initial_state])\n",
    "    node_count = 1\n",
    "\n",
    "    if root_node.state.is_final():\n",
    "        return root_node\n",
    "\n",
    "    while len(frontier) > 0:\n",
    "        node = frontier.popleft()\n",
    "\n",
    "        for child in node.expand_node():\n",
    "            node_count += 1\n",
    "            if child.state.is_final():\n",
    "                print(f'Node generated: {node_count}')\n",
    "                return child\n",
    "            elif child.state not in reached:\n",
    "                frontier.append(child)\n",
    "                reached.add(child.state)\n",
    "\n",
    "    print(f'Node generated: {node_count}')\n",
    "    return None"
   ]
  },
  {
   "cell_type": "code",
   "execution_count": 4,
   "id": "f2da5dee",
   "metadata": {},
   "outputs": [
    {
     "name": "stdout",
     "output_type": "stream",
     "text": [
      "Node generated: 34\n"
     ]
    },
    {
     "data": {
      "text/plain": [
       "Node(action=pour(x, z), state=(1, 8, 3), parent=(4, 8, 0), path_cost=3)"
      ]
     },
     "execution_count": 4,
     "metadata": {},
     "output_type": "execute_result"
    }
   ],
   "source": [
    "res = bfs_set(State())\n",
    "res"
   ]
  },
  {
   "cell_type": "code",
   "execution_count": 5,
   "id": "3e1f2e9e",
   "metadata": {},
   "outputs": [
    {
     "data": {
      "text/plain": [
       "[(None, '(0, 0, 0)'),\n",
       " ('fill(x)', '(12, 0, 0)'),\n",
       " ('pour(x, y)', '(4, 8, 0)'),\n",
       " ('pour(x, z)', '(1, 8, 3)')]"
      ]
     },
     "execution_count": 5,
     "metadata": {},
     "output_type": "execute_result"
    }
   ],
   "source": [
    "res.get_path()"
   ]
  },
  {
   "cell_type": "code",
   "execution_count": null,
   "id": "e0a5744c",
   "metadata": {},
   "outputs": [],
   "source": [
    "def bfs_visualize(initial_state: State) -> Digraph:\n",
    "    dot = Digraph('graph_space')\n",
    "    dot.graph_attr['rankdir'] = 'TB'\n",
    "\n",
    "    root_node = Node(state=initial_state)\n",
    "    frontier = deque([root_node])\n",
    "    reached = set([initial_state])\n",
    "    node_count = 1\n",
    "\n",
    "    while len(frontier) > 0:\n",
    "        node = frontier.popleft()\n",
    "        node_id = str(hash(node.state))\n",
    "        node_count += 1\n",
    "\n",
    "        dot.node(node_id, label=str(node.state))\n",
    "\n",
    "        for child in node.expand_node():\n",
    "            if child.state not in reached:\n",
    "                frontier.append(child)\n",
    "                reached.add(child.state)\n",
    "\n",
    "                # Most edges to already generated nodes are missing\n",
    "                child_id = str(hash(child.state))\n",
    "                dot.edge(node_id, child_id, label=f'{child.action}')\n",
    "\n",
    "    print(f'Node generated: {node_count}')\n",
    "    return dot"
   ]
  },
  {
   "cell_type": "code",
   "execution_count": 7,
   "id": "39b03a3b",
   "metadata": {},
   "outputs": [
    {
     "name": "stdout",
     "output_type": "stream",
     "text": [
      "Node generated: 315\n"
     ]
    },
    {
     "data": {
      "text/plain": [
       "'dot-output/Digraph.gv.pdf'"
      ]
     },
     "execution_count": 7,
     "metadata": {},
     "output_type": "execute_result"
    }
   ],
   "source": [
    "graph_space = bfs_visualize(State())\n",
    "\n",
    "graph_space.render(directory='dot-output', format='pdf').replace('\\\\', '/')\n",
    "# graph_space"
   ]
  },
  {
   "cell_type": "code",
   "execution_count": null,
   "id": "34daa8e1",
   "metadata": {},
   "outputs": [],
   "source": []
  }
 ],
 "metadata": {
  "kernelspec": {
   "display_name": ".venv",
   "language": "python",
   "name": "python3"
  },
  "language_info": {
   "codemirror_mode": {
    "name": "ipython",
    "version": 3
   },
   "file_extension": ".py",
   "mimetype": "text/x-python",
   "name": "python",
   "nbconvert_exporter": "python",
   "pygments_lexer": "ipython3",
   "version": "3.12.10"
  }
 },
 "nbformat": 4,
 "nbformat_minor": 5
}
